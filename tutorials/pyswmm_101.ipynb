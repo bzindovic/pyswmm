{
 "cells": [
  {
   "cell_type": "markdown",
   "id": "580f77cf-a0cb-45c9-aa16-e4d5244e4f87",
   "metadata": {},
   "source": [
    "# Getting started with pyswmm\n",
    "\n",
    "### Objective\n",
    "    1. Installing pyswmm \n",
    "    2. Running a simulation using pyswmm and swmm-python\n",
    "    3. Querying states and metrics"
   ]
  },
  {
   "cell_type": "code",
   "execution_count": null,
   "id": "2a372acf-5b5a-4c42-af46-8da7cdbd4d0f",
   "metadata": {},
   "outputs": [],
   "source": [
    "import pyswmm\n",
    "import "
   ]
  }
 ],
 "metadata": {
  "kernelspec": {
   "display_name": "pyswmm",
   "language": "python",
   "name": "pyswmm"
  },
  "language_info": {
   "codemirror_mode": {
    "name": "ipython",
    "version": 3
   },
   "file_extension": ".py",
   "mimetype": "text/x-python",
   "name": "python",
   "nbconvert_exporter": "python",
   "pygments_lexer": "ipython3",
   "version": "3.9.13"
  }
 },
 "nbformat": 4,
 "nbformat_minor": 5
}
